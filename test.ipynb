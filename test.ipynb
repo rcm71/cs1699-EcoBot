{
 "cells": [
  {
   "cell_type": "code",
   "execution_count": 58,
   "metadata": {},
   "outputs": [],
   "source": [
    "# --- Imports ---\n",
    "from PIL import Image\n",
    "import numpy as np\n",
    "import matplotlib.pyplot as plt\n"
   ]
  },
  {
   "cell_type": "code",
   "execution_count": 59,
   "metadata": {},
   "outputs": [],
   "source": [
    "# --- Convert .pgm to cleaned .png (white stays, others become black) ---\n",
    "def convert_clean_pgm_to_png(pgm_path, png_path,white_threshold=240):\n",
    "    img = Image.open(pgm_path).convert('L')\n",
    "    img_array = np.array(img)\n",
    "\n",
    "    # Set all non-white pixels to black\n",
    "    cleaned = np.where(img_array >= white_threshold, 255, 0).astype(np.uint8)\n",
    "    cleaned_img = Image.fromarray(cleaned)\n",
    "    cleaned_img.save(png_path)\n"
   ]
  },
  {
   "cell_type": "code",
   "execution_count": 60,
   "metadata": {},
   "outputs": [],
   "source": [
    "def pad_image(png_path, padded_path, cell_size=5):\n",
    "    img = Image.open(png_path).convert('L')\n",
    "    img_array = np.array(img)\n",
    "\n",
    "    h, w = img_array.shape\n",
    "    pad_h = (cell_size - (h % cell_size)) % cell_size\n",
    "    pad_w = (cell_size - (w % cell_size)) % cell_size\n",
    "\n",
    "    # Pad with black pixels (0) at bottom and right\n",
    "    padded_array = np.pad(\n",
    "        img_array,\n",
    "        ((0, pad_h), (0, pad_w)),\n",
    "        mode='constant',\n",
    "        constant_values=0\n",
    "    )\n",
    "\n",
    "    padded_img = Image.fromarray(padded_array)\n",
    "    padded_img.save(padded_path)\n",
    "\n"
   ]
  },
  {
   "cell_type": "code",
   "execution_count": 61,
   "metadata": {},
   "outputs": [],
   "source": [
    "# --- Convert cleaned PNG to 5x5 grid ---\n",
    "def png_to_grid(padded_path, cell_size=5, output_txt=\"grid_cropped.txt\"):\n",
    "    img = Image.open(padded_path).convert('L')\n",
    "    img_array = np.array(img)\n",
    "    h, w = img_array.shape\n",
    "\n",
    "    new_h = h // cell_size\n",
    "    new_w = w // cell_size\n",
    "    img_array = img_array[:new_h * cell_size, :new_w * cell_size]\n",
    "\n",
    "    # Reshape into (rows, cell_size, cols, cell_size)\n",
    "    reshaped = img_array.reshape(new_h, cell_size, new_w, cell_size)\n",
    "\n",
    "    # Use min to check if any pixel is black (0) → set cell to 1 (obstacle)\n",
    "    cell_min = reshaped.min(axis=(1, 3))\n",
    "    grid = (cell_min < 255).astype(int)\n",
    "    \n",
    "      # --- Remove outer rows/columns that are all 1s ---\n",
    "    row_mask = ~(grid == 1).all(axis=1)\n",
    "    col_mask = ~(grid == 1).all(axis=0)\n",
    "    trimmed_grid = grid[np.ix_(row_mask, col_mask)]\n",
    "    grid = np.pad(trimmed_grid, pad_width=1, mode='constant', constant_values=1)\n",
    "\n",
    "    # --- Save to txt file ---\n",
    "    np.savetxt(output_txt, trimmed_grid, fmt=\"%d\", delimiter=\" \")\n",
    "    print(f\"Trimmed grid saved to {output_txt}\")\n",
    "    return grid\n"
   ]
  },
  {
   "cell_type": "code",
   "execution_count": 62,
   "metadata": {},
   "outputs": [],
   "source": [
    "# --- Visualize grid ---\n",
    "def show_grid(grid):\n",
    "    fig, ax = plt.subplots(figsize=(8, 8))\n",
    "    ax.imshow(grid, cmap='gray_r', interpolation='nearest')\n",
    "\n",
    "    # Draw green grid lines\n",
    "    rows, cols = grid.shape\n",
    "    for x in range(cols + 1):\n",
    "        ax.axvline(x - 0.5, color='green', linewidth=0.5)\n",
    "    for y in range(rows + 1):\n",
    "        ax.axhline(y - 0.5, color='green', linewidth=0.5)\n",
    "\n",
    "    ax.set_title(\"5x5 Grid Map with Gridlines\")\n",
    "    ax.set_xticks([])\n",
    "    ax.set_yticks([])\n",
    "    plt.show()\n"
   ]
  },
  {
   "cell_type": "code",
   "execution_count": 63,
   "metadata": {},
   "outputs": [],
   "source": [
    "def save_grid_as_png(grid, output_path):\n",
    "    img_array = np.where(grid == 0, 255, 0).astype(np.uint8)\n",
    "    img = Image.fromarray(img_array, mode='L')\n",
    "    img.save(output_path)\n"
   ]
  },
  {
   "cell_type": "code",
   "execution_count": 64,
   "metadata": {},
   "outputs": [
    {
     "name": "stdout",
     "output_type": "stream",
     "text": [
      "Trimmed grid saved to grid_cropped.txt\n"
     ]
    },
    {
     "data": {
      "image/png": "[encoded data removed]",
      "text/plain": [
       "<Figure size 800x800 with 1 Axes>"
      ]
     },
     "metadata": {},
     "output_type": "display_data"
    }
   ],
   "source": [
    "# --- Run all steps ---\n",
    "pgm_path = 'map.pgm'  \n",
    "png_path = 'map_cleaned.png'\n",
    "\n",
    "convert_clean_pgm_to_png(pgm_path, png_path)\n",
    "png_path = 'map_cleaned.png'\n",
    "padded_path = 'map_padded.png'\n",
    "pad_image(png_path, padded_path)\n",
    "grid = png_to_grid(png_path, cell_size=5)\n",
    "show_grid(grid)\n",
    "\n",
    "save_grid_as_png(grid, 'final_grid.png')\n"
   ]
  }
 ],
 "metadata": {
  "kernelspec": {
   "display_name": "Python 3",
   "language": "python",
   "name": "python3"
  },
  "language_info": {
   "codemirror_mode": {
    "name": "ipython",
    "version": 3
   },
   "file_extension": ".py",
   "mimetype": "text/x-python",
   "name": "python",
   "nbconvert_exporter": "python",
   "pygments_lexer": "ipython3",
   "version": "3.10.12"
  }
 },
 "nbformat": 4,
 "nbformat_minor": 2
}
